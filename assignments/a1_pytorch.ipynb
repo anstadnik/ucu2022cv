{
 "cells": [
  {
   "cell_type": "markdown",
   "metadata": {
    "id": "637S0mjilkvv"
   },
   "source": [
    "![pytorch](https://upload.wikimedia.org/wikipedia/commons/9/96/Pytorch_logo.png)"
   ]
  },
  {
   "cell_type": "markdown",
   "metadata": {
    "id": "-aEaNoZtlkvw"
   },
   "source": [
    "### Useful Links:\n",
    "\n",
    "* pytorch official documentation\n",
    "http://pytorch.org/docs/master/index.html\n",
    "\n",
    "* pytorch discussion\n",
    "https://discuss.pytorch.org/\n",
    "\n",
    "* pytorch official tutorials\n",
    "https://pytorch.org/tutorials/\n",
    "\n"
   ]
  },
  {
   "cell_type": "markdown",
   "metadata": {
    "id": "yjTBYu_blkvx"
   },
   "source": [
    "## Preliminaries"
   ]
  },
  {
   "cell_type": "code",
   "execution_count": 1,
   "metadata": {
    "id": "agpPjG0Mlkv2"
   },
   "outputs": [],
   "source": [
    "import numpy as np\n",
    "import torch\n",
    "import torchvision"
   ]
  },
  {
   "cell_type": "code",
   "execution_count": 2,
   "metadata": {
    "id": "RKHlgFk8IUdT"
   },
   "outputs": [
    {
     "name": "stdout",
     "output_type": "stream",
     "text": [
      "python version: 3.10.9\n",
      "torch version: 2.0.0.dev20221228\n",
      "torchvision version: 0.15.0.dev20221228\n"
     ]
    }
   ],
   "source": [
    "# print versions\n",
    "from platform import python_version\n",
    "\n",
    "print(f\"python version: {python_version()}\")\n",
    "print(f\"torch version: {torch.__version__}\")\n",
    "print(f\"torchvision version: {torchvision.__version__}\")"
   ]
  },
  {
   "cell_type": "code",
   "execution_count": 3,
   "metadata": {
    "id": "yCxjj52jlkv5"
   },
   "outputs": [],
   "source": [
    "# set random seeds\n",
    "torch.manual_seed(42)\n",
    "np.random.seed(42)"
   ]
  },
  {
   "cell_type": "markdown",
   "metadata": {
    "id": "ZRnBcOudlkv8"
   },
   "source": [
    "##  Tensors"
   ]
  },
  {
   "cell_type": "markdown",
   "metadata": {
    "id": "34t2aUsZlkv9"
   },
   "source": [
    "One of the main data types in PyTorch is 'tensor'.\n",
    "We will start with the concept of tensor and how it is used in PyTorch.\n",
    "\n",
    "![](https://raw.githubusercontent.com/lyubonko/ucu2022cv/master/assignments/fig/tensors.jpg)"
   ]
  },
  {
   "cell_type": "markdown",
   "metadata": {
    "id": "41I0TEmRlkv-"
   },
   "source": [
    "### Tensor Initialization"
   ]
  },
  {
   "cell_type": "code",
   "execution_count": 4,
   "metadata": {
    "id": "w63UyQFvlkv_"
   },
   "outputs": [
    {
     "name": "stdout",
     "output_type": "stream",
     "text": [
      " * the first 2 elements are: \n",
      " \ttensor([0., 0.]) \n",
      "   the type of this tensor is torch.float32\n",
      "   the size is torch.Size([64]) \n",
      "\n",
      " * the first 2 elements are: \n",
      " \ttensor([0, 1]) \n",
      "   the type of this tensor is torch.int64\n",
      "   the size is torch.Size([64]) \n",
      "\n",
      " * the first 2 elements are: \n",
      " \ttensor([[0, 0, 0, 0, 0, 0, 0, 0],\n",
      "        [0, 0, 0, 0, 0, 0, 0, 0]]) \n",
      "   the type of this tensor is torch.int64\n",
      "   the size is torch.Size([8, 8]) \n",
      "\n",
      " * the first 2 elements are: \n",
      " \ttensor([[1., 1., 1., 1., 1., 1., 1., 1.],\n",
      "        [1., 1., 1., 1., 1., 1., 1., 1.]]) \n",
      "   the type of this tensor is torch.float32\n",
      "   the size is torch.Size([8, 8]) \n",
      "\n",
      " * the first 2 elements are: \n",
      " \ttensor([[[0.8823, 0.9150, 0.3829],\n",
      "         [0.9593, 0.3904, 0.6009],\n",
      "         [0.2566, 0.7936, 0.9408]],\n",
      "\n",
      "        [[0.1332, 0.9346, 0.5936],\n",
      "         [0.8694, 0.5677, 0.7411],\n",
      "         [0.4294, 0.8854, 0.5739]]]) \n",
      "   the type of this tensor is torch.float32\n",
      "   the size is torch.Size([3, 3, 3]) \n",
      "\n",
      " * the first 2 elements are: \n",
      " \ttensor([[9, 7],\n",
      "        [9, 2]]) \n",
      "   the type of this tensor is torch.int64\n",
      "   the size is torch.Size([2, 2]) \n",
      "\n"
     ]
    }
   ],
   "source": [
    "# initialization of 1d tensor of size 64 of type float32 (default)\n",
    "# (this tensor is initialized with default values close to zero)\n",
    "\n",
    "tensor_inits = [\n",
    "    # initialization of 1d tensor of size 64 of type float32 (default)\n",
    "    # (this tensor is initialized with default values close to zero)\n",
    "    torch.empty(64),\n",
    "    # initialize with array [0,1,...,63]\n",
    "    torch.arange(0, 64),\n",
    "    # tensor with all zeros\n",
    "    torch.zeros(8, 8, dtype=torch.long),\n",
    "    # tensor with all ones\n",
    "    torch.ones(8, 8, dtype=torch.float32),\n",
    "    # random tensor with values in range [0,1)\n",
    "    torch.rand((3, 3, 3)),\n",
    "    # tensor with random int values\n",
    "    torch.randint(10, (2, 2)),\n",
    "]\n",
    "\n",
    "for v in tensor_inits:\n",
    "    print(f\" * the first 2 elements are: \\n \\t{v[:2]} \")\n",
    "    print(f\"   the type of this tensor is {v.dtype}\")\n",
    "    print(f\"   the size is {v.size()} \\n\")"
   ]
  },
  {
   "cell_type": "code",
   "execution_count": 5,
   "metadata": {
    "id": "i_FCufMClkwE"
   },
   "outputs": [
    {
     "name": "stdout",
     "output_type": "stream",
     "text": [
      " * the size of the 'x' is: \n",
      " torch.Size([8, 8]) \n",
      "\n",
      " * the size of the 'x' can also be obtained by familar from numpy 'shape' command: \n",
      " torch.Size([8, 8])\n"
     ]
    }
   ],
   "source": [
    "# initialize with array all ones\n",
    "x = torch.ones(8, 8, dtype=torch.float)\n",
    "\n",
    "print(f\" * the size of the 'x' is: \\n {x.size()} \\n\")\n",
    "print(\n",
    "    f\" * the size of the 'x' can also be obtained by familar from numpy 'shape' command: \\n {x.shape}\"\n",
    ")"
   ]
  },
  {
   "cell_type": "markdown",
   "metadata": {
    "id": "7SpXbIflk-06"
   },
   "source": [
    "#### <font color=\"red\">**[PROBLEM I]:** </font>"
   ]
  },
  {
   "cell_type": "markdown",
   "metadata": {
    "id": "yIxLwDqJlkwI"
   },
   "source": [
    "-----\n",
    "\n",
    " <font color=\"red\"> Initialize X </font>     \n",
    " <font color=\"red\"> 3d Tensor of size (4,4,4) </font>   \n",
    " <font color=\"red\"> of type int32 with all elements equal to 10 </font>   \n",
    "\n",
    "-----"
   ]
  },
  {
   "cell_type": "code",
   "execution_count": 6,
   "metadata": {
    "id": "IDKTCF-FlkwJ"
   },
   "outputs": [],
   "source": [
    "# YOUR CODE HERE (replace 'None')\n",
    "X = torch.full((4, 4, 4), 10)"
   ]
  },
  {
   "cell_type": "code",
   "execution_count": 7,
   "metadata": {
    "id": "9PBunfBLlkwL"
   },
   "outputs": [
    {
     "name": "stdout",
     "output_type": "stream",
     "text": [
      "torch.Size([4, 4, 4])\n"
     ]
    }
   ],
   "source": [
    "print(X.shape)"
   ]
  },
  {
   "cell_type": "markdown",
   "metadata": {
    "id": "V6lo7g0vlkwP"
   },
   "source": [
    "### Reshaping, broadcasting"
   ]
  },
  {
   "cell_type": "markdown",
   "metadata": {
    "id": "tvQ9VswXlkwQ"
   },
   "source": [
    "Tensor reshaping is done with command 'view':"
   ]
  },
  {
   "cell_type": "code",
   "execution_count": 8,
   "metadata": {
    "id": "9EZqQ4bolkwR"
   },
   "outputs": [
    {
     "name": "stdout",
     "output_type": "stream",
     "text": [
      "tensor([[1, 2],\n",
      "        [3, 4]])\n",
      "tensor([1, 2, 3, 4])\n"
     ]
    }
   ],
   "source": [
    "a = torch.tensor([[1, 2], [3, 4]])\n",
    "a_reshaped = a.view(4)  # reshape into one-dimensional tensor of size 4\n",
    "\n",
    "print(a)\n",
    "print(a_reshaped)"
   ]
  },
  {
   "cell_type": "markdown",
   "metadata": {
    "id": "byYJI7uNk-08"
   },
   "source": [
    "#### <font color=\"red\">**[PROBLEM II]:** </font>"
   ]
  },
  {
   "cell_type": "markdown",
   "metadata": {
    "id": "PbfinsFPlkwU"
   },
   "source": [
    "-----\n",
    "\n",
    " <font color=\"red\"> Use command 'view' to reshape **v** and **X** (obtained in PROBLEM I) into 2d <ins>*square*</ins> tensors  **v_** and **X_**. </font>  \n",
    "\n",
    "  <font color=\"red\">Convet all tensors to type **int16** </font>\n",
    "\n",
    " <font color=\"red\"> Perform addition of these reshaped tensors, namely calculate **sum_tensor** = **v_** + **X_** + **x** </font>  \n",
    "\n",
    " <font color=\"red\"> Finally display the result. </font>\n",
    "\n",
    "-----"
   ]
  },
  {
   "cell_type": "code",
   "execution_count": 10,
   "metadata": {
    "id": "vAqMDyT7lkwV"
   },
   "outputs": [
    {
     "name": "stdout",
     "output_type": "stream",
     "text": [
      "tensor([[12., 12., 12., 12., 12., 12., 12., 12.],\n",
      "        [12., 12., 12., 12., 12., 12., 12., 12.],\n",
      "        [12., 12., 12., 12., 12., 12., 12., 12.],\n",
      "        [12., 12., 12., 12., 12., 12., 12., 12.],\n",
      "        [12., 12., 12., 12., 12., 12., 12., 12.],\n",
      "        [12., 12., 12., 12., 12., 12., 12., 12.],\n",
      "        [12., 12., 12., 12., 12., 12., 12., 12.],\n",
      "        [12., 12., 12., 12., 12., 12., 12., 12.]])\n"
     ]
    }
   ],
   "source": [
    "v = torch.ones(64)\n",
    "\n",
    "# YOUR CODE HERE (replace 'None')\n",
    "v_ = v.view(8, 8)\n",
    "X_ = X.view(8, 8)\n",
    "sum_tensors = v_ + X_ + x\n",
    "\n",
    "print(sum_tensors)"
   ]
  },
  {
   "cell_type": "markdown",
   "metadata": {
    "id": "7MIoop_flkwY"
   },
   "source": [
    "### Operations on Tensors"
   ]
  },
  {
   "cell_type": "markdown",
   "metadata": {
    "id": "ob2KRkFRRScX"
   },
   "source": [
    "relevant tutorial\n",
    "https://pytorch.org/tutorials/beginner/blitz/tensor_tutorial.html#operations"
   ]
  },
  {
   "cell_type": "markdown",
   "metadata": {
    "id": "lo6Y9pB8lkwZ"
   },
   "source": [
    "There are multiple syntaxes for different operations. As starters let us look for 'addition' operation."
   ]
  },
  {
   "cell_type": "code",
   "execution_count": 12,
   "metadata": {
    "id": "zeUMQde7Rnyo"
   },
   "outputs": [],
   "source": [
    "x = torch.randint(10, (4, 4))\n",
    "y = torch.ones(4, 4)"
   ]
  },
  {
   "cell_type": "code",
   "execution_count": 13,
   "metadata": {
    "id": "Jx9pgVR-RxfU"
   },
   "outputs": [
    {
     "name": "stdout",
     "output_type": "stream",
     "text": [
      "tensor([[ 1.,  6., 10.,  4.],\n",
      "        [ 5., 10.,  7.,  3.],\n",
      "        [ 1.,  7.,  3.,  8.],\n",
      "        [10.,  8.,  4.,  4.]])\n",
      "tensor([[ 1.,  6., 10.,  4.],\n",
      "        [ 5., 10.,  7.,  3.],\n",
      "        [ 1.,  7.,  3.,  8.],\n",
      "        [10.,  8.,  4.,  4.]])\n",
      "tensor([[ 1.,  6., 10.,  4.],\n",
      "        [ 5., 10.,  7.,  3.],\n",
      "        [ 1.,  7.,  3.,  8.],\n",
      "        [10.,  8.,  4.,  4.]])\n"
     ]
    }
   ],
   "source": [
    "print(torch.add(x, y))\n",
    "print(x + y)\n",
    "result = torch.empty_like(y)\n",
    "torch.add(x, y, out=result)\n",
    "print(result)"
   ]
  },
  {
   "cell_type": "markdown",
   "metadata": {
    "id": "Mk9fcUnjS1lK"
   },
   "source": [
    "inplace addition"
   ]
  },
  {
   "cell_type": "code",
   "execution_count": 14,
   "metadata": {
    "id": "TBuUEX71Rxou"
   },
   "outputs": [
    {
     "name": "stdout",
     "output_type": "stream",
     "text": [
      "tensor([[1., 1., 1., 1.],\n",
      "        [1., 1., 1., 1.],\n",
      "        [1., 1., 1., 1.],\n",
      "        [1., 1., 1., 1.]])\n",
      "tensor([[ 1.,  6., 10.,  4.],\n",
      "        [ 5., 10.,  7.,  3.],\n",
      "        [ 1.,  7.,  3.,  8.],\n",
      "        [10.,  8.,  4.,  4.]])\n"
     ]
    }
   ],
   "source": [
    "print(y)\n",
    "y.add_(x)\n",
    "print(y)"
   ]
  },
  {
   "cell_type": "markdown",
   "metadata": {
    "id": "FZ4DlliNk-0_"
   },
   "source": [
    "Learn about other operations https://pytorch.org/tutorials/beginner/blitz/tensor_tutorial.html#operationsm"
   ]
  },
  {
   "cell_type": "markdown",
   "metadata": {
    "id": "tJdssKMxlkwe"
   },
   "source": [
    "### Numpy bridge"
   ]
  },
  {
   "cell_type": "code",
   "execution_count": 15,
   "metadata": {
    "id": "88VK_9Jylkwe"
   },
   "outputs": [
    {
     "name": "stdout",
     "output_type": "stream",
     "text": [
      "<class 'numpy.ndarray'> \n",
      " [[1 2]\n",
      " [3 4]] \n",
      "\n",
      "<class 'torch.Tensor'> \n",
      " tensor([[1, 3],\n",
      "        [2, 4]]) \n",
      "\n",
      "<class 'numpy.ndarray'> \n",
      " [[1 3]\n",
      " [2 4]] \n",
      "\n"
     ]
    }
   ],
   "source": [
    "# create numpy array\n",
    "a = np.array([[1, 2], [3, 4]])\n",
    "# transform numpy array into torch.Tensor\n",
    "b = torch.from_numpy(a)\n",
    "# make operation on this Tensor (in this case transpose)\n",
    "b = b.transpose(1, 0)\n",
    "# transform back to numpy\n",
    "c = b.numpy()\n",
    "\n",
    "print(f\"{type(a)} \\n {a} \\n\")\n",
    "print(f\"{type(b)} \\n {b} \\n\")\n",
    "print(f\"{type(c)} \\n {c} \\n\")"
   ]
  },
  {
   "cell_type": "markdown",
   "metadata": {
    "id": "gpp2zVsVk-0_"
   },
   "source": [
    "#### <font color=\"red\">**[PROBLEM III]:** </font>"
   ]
  },
  {
   "cell_type": "markdown",
   "metadata": {
    "id": "b16o5QKFlkwi"
   },
   "source": [
    "-----\n",
    "<span style=\"color:red\"> Using these two random matrices: </span>"
   ]
  },
  {
   "cell_type": "code",
   "execution_count": 17,
   "metadata": {
    "id": "TC2oFY8llkwj"
   },
   "outputs": [],
   "source": [
    "x = np.random.randn(3, 10)\n",
    "y = np.random.randn(4, 10)"
   ]
  },
  {
   "cell_type": "markdown",
   "metadata": {
    "id": "_cE4jEhBlkwm"
   },
   "source": [
    "<span style=\"color:red\"> Do the following: </span>\n",
    "* <span style=\"color:red\">transform $\\mathbf{x}$ and $\\mathbf{y}$ to torch.Tensors</span>\n",
    "* <span style=\"color:red\">perform matrix mutliplication $\\mathbf{r1} = \\mathbf{x} \\cdot \\mathbf{y^T} $</span>  \n",
    "<span style=\"color:blue\"> look in for pytorch function http://pytorch.org/docs/master/torch.html#torch.mm </span>  or\n",
    "<span style=\"color:blue\">  http://pytorch.org/docs/master/torch.html#torch.matmul </span>  \n",
    "* <span style=\"color:red\">perform matrix element-wise mutliplication $\\mathbf{r2} = \\mathbf{r1} \\cdot \\mathbf{r1} $</span>  \n",
    "<span style=\"color:blue\"> look in for pytorch function http://pytorch.org/docs/master/torch.html#torch.mul </span> \n",
    "* <span style=\"color:red\">perform scalar addition and scalar multiplication $\\mathbf{r3} = 2 * \\mathbf{r2} + 3 $</span>  \n",
    "* <span style=\"color:red\">transform the result back to numpy </span>\n",
    "\n",
    "-----"
   ]
  },
  {
   "cell_type": "code",
   "execution_count": 22,
   "metadata": {
    "id": "aWDAtz54lkwn"
   },
   "outputs": [
    {
     "name": "stdout",
     "output_type": "stream",
     "text": [
      "[[15.75251238  4.00731333  4.7705989  22.49291184]\n",
      " [ 4.29568683 76.39517546 44.09112074  5.5827972 ]\n",
      " [ 3.75285596 26.46251526  3.39959147  5.45615519]]\n"
     ]
    }
   ],
   "source": [
    "# YOUR CODE HERE (replace 'None')\n",
    "r1 = torch.from_numpy(x) @ torch.from_numpy(y).T\n",
    "r2 = r1 * r1\n",
    "r3 = 2 * r2 + 3\n",
    "print(r3.numpy())"
   ]
  },
  {
   "cell_type": "markdown",
   "metadata": {
    "id": "U_VqL45Blkws"
   },
   "source": [
    "### CUDA stuff"
   ]
  },
  {
   "cell_type": "markdown",
   "metadata": {
    "id": "pcPi-hOSlkwt"
   },
   "source": [
    "let us run on CUDA! ... if CUDA is available"
   ]
  },
  {
   "cell_type": "code",
   "execution_count": 23,
   "metadata": {
    "id": "BD0YYuiMOgkv"
   },
   "outputs": [
    {
     "data": {
      "text/plain": [
       "False"
      ]
     },
     "execution_count": 23,
     "metadata": {},
     "output_type": "execute_result"
    }
   ],
   "source": [
    "torch.cuda.is_available()"
   ]
  },
  {
   "cell_type": "code",
   "execution_count": 24,
   "metadata": {
    "id": "EwUaC4nXlkwv"
   },
   "outputs": [],
   "source": [
    "x = torch.randn(3, 10)\n",
    "if torch.cuda.is_available():\n",
    "    device = \"cuda\"  # a CUDA device object\n",
    "    y = torch.ones_like(x).to(device)  # directly create a tensor on GPU\n",
    "    x = x.to(device)\n",
    "    z = x + y\n",
    "    print(z)  # notice \"device='cuda:0'\" when we print this part\n",
    "    print()\n",
    "    print(z.to(\"cpu\"))"
   ]
  },
  {
   "cell_type": "code",
   "execution_count": 27,
   "metadata": {
    "id": "BD0YYuiMOgkv"
   },
   "outputs": [
    {
     "data": {
      "text/plain": [
       "True"
      ]
     },
     "execution_count": 27,
     "metadata": {},
     "output_type": "execute_result"
    }
   ],
   "source": [
    "torch.backends.mps.is_available()"
   ]
  },
  {
   "cell_type": "code",
   "execution_count": 28,
   "metadata": {
    "id": "EwUaC4nXlkwv"
   },
   "outputs": [
    {
     "name": "stdout",
     "output_type": "stream",
     "text": [
      "tensor([[-0.3543,  0.5024,  1.4747, -1.5095,  1.4880,  1.7846,  1.0286,  1.6408,\n",
      "         -0.3527,  1.2191],\n",
      "        [ 1.5526,  0.8147,  1.7528,  1.4048,  0.6692,  1.5177,  1.3878,  0.4203,\n",
      "          0.8309,  2.9312],\n",
      "        [ 2.0119, -0.4364,  0.5080,  1.2704,  0.4372,  1.6793,  1.4405,  2.1415,\n",
      "          1.0186, -0.8058]], device='mps:0')\n",
      "\n",
      "tensor([[-0.3543,  0.5024,  1.4747, -1.5095,  1.4880,  1.7846,  1.0286,  1.6408,\n",
      "         -0.3527,  1.2191],\n",
      "        [ 1.5526,  0.8147,  1.7528,  1.4048,  0.6692,  1.5177,  1.3878,  0.4203,\n",
      "          0.8309,  2.9312],\n",
      "        [ 2.0119, -0.4364,  0.5080,  1.2704,  0.4372,  1.6793,  1.4405,  2.1415,\n",
      "          1.0186, -0.8058]])\n"
     ]
    },
    {
     "name": "stderr",
     "output_type": "stream",
     "text": [
      "/Users/astadnik/.virtualenvs/masters/lib/python3.10/site-packages/torch/_tensor_str.py:115: UserWarning: The operator 'aten::nonzero' is not currently supported on the MPS backend and will fall back to run on the CPU. This may have performance implications. (Triggered internally at /Users/runner/work/pytorch/pytorch/pytorch/aten/src/ATen/mps/MPSFallback.mm:11.)\n",
      "  nonzero_finite_vals = torch.masked_select(\n"
     ]
    }
   ],
   "source": [
    "x = torch.randn(3, 10)\n",
    "if torch.backends.mps.is_available():\n",
    "    device = \"mps\"  # a CUDA device object\n",
    "    y = torch.ones_like(x).to(device)  # directly create a tensor on GPU\n",
    "    x = x.to(device)\n",
    "    z = x + y\n",
    "    print(z)  # notice \"device='cuda:0'\" when we print this part\n",
    "    print()\n",
    "    print(z.to(\"cpu\"))"
   ]
  },
  {
   "cell_type": "markdown",
   "metadata": {
    "id": "nHxHgvOfRFCA"
   },
   "source": [
    "##  Autograd: automatic differentiation"
   ]
  },
  {
   "cell_type": "markdown",
   "metadata": {
    "id": "wux_2jqxRBs0"
   },
   "source": [
    "relevant tutorial\n",
    "https://pytorch.org/tutorials/beginner/blitz/autograd_tutorial.html#sphx-glr-beginner-blitz-autograd-tutorial-py\n"
   ]
  },
  {
   "cell_type": "markdown",
   "metadata": {
    "id": "4FZyAlm2lkw0"
   },
   "source": [
    "*torch.Tensor* is the central class of the package. If you set its attribute *.requires_grad* as True, it starts to track all operations on it. When you finish your computation you can call *.backward()* and have all the gradients computed automatically. The gradient for this tensor will be accumulated into .grad attribute. "
   ]
  },
  {
   "cell_type": "markdown",
   "metadata": {
    "id": "3XsvhS5-lkw1"
   },
   "source": [
    "**use of autograd**\n",
    "\n",
    "Lets start with simple example.\n",
    "Consider the following function:\n",
    "$$f = (x + y) \\cdot z$$\n",
    "\n",
    "For concretness let's take $x=2$, $y=-7$, $z=3$. The 'forward' calculation is shown in <span style=\"color:green\"> green </span> on the image below.\n",
    "\n",
    "Automaic differentiation provides the elegant tool to calculate derivatives of $f$ with respect to all variables, by 'backward' path.\n",
    "\n",
    "$$f = (x + y) \\cdot z = u \\cdot z $$\n",
    "\n",
    "$$ \\frac{\\partial f}{\\partial u} = z $$\n",
    "\n",
    "$$ \\frac{\\partial f}{\\partial z} = u = -5 $$\n",
    "\n",
    "$$ \\frac{\\partial f}{\\partial x} = \\frac{\\partial f}{\\partial u} \\cdot \\frac{\\partial u}{\\partial x} = z = 3$$\n",
    "\n",
    "$$ \\frac{\\partial f}{\\partial y} = \\frac{\\partial f}{\\partial u} \\cdot \\frac{\\partial u}{\\partial y} = z = 3$$\n",
    "\n",
    "![comp_graph_1](https://raw.githubusercontent.com/lyubonko/ucu2022cv/master/assignments/fig/comp_graph_1.png)"
   ]
  },
  {
   "cell_type": "code",
   "execution_count": 29,
   "metadata": {
    "id": "rWdfj0DYlkw2"
   },
   "outputs": [
    {
     "name": "stdout",
     "output_type": "stream",
     "text": [
      "tensor([3.])\n",
      "tensor([3.])\n",
      "tensor([-5.])\n"
     ]
    }
   ],
   "source": [
    "# Create tensors.\n",
    "# ('requires_grad' is False by default)\n",
    "x = torch.tensor([2.0], requires_grad=True)\n",
    "y = torch.tensor([-7.0], requires_grad=True)\n",
    "z = torch.tensor([3.0], requires_grad=True)\n",
    "\n",
    "# Build a computational graph.\n",
    "f = (x + y) * z\n",
    "\n",
    "# Compute gradients.\n",
    "f.backward()\n",
    "\n",
    "# Print out the gradients.\n",
    "print(x.grad)\n",
    "print(y.grad)\n",
    "print(z.grad)"
   ]
  },
  {
   "cell_type": "markdown",
   "metadata": {
    "id": "FJSxjwiAk-1D"
   },
   "source": [
    "#### <font color=\"red\">**[PROBLEM IV]** </font>"
   ]
  },
  {
   "cell_type": "markdown",
   "metadata": {
    "id": "fO2yZn6flkw5"
   },
   "source": [
    "\n",
    " Next we will consider the computational graph of the following function \n",
    "\n",
    "$$f = \\frac{1}{1 + exp^{-(w_0 \\cdot x_0 + w_1 \\cdot x_1 + b )}} = \\frac{1}{1 + exp^{-(\\mathbf{w} \\cdot \\mathbf{x} + b )}}$$\n",
    "\n",
    "\n",
    "![comp_graph_2](https://raw.githubusercontent.com/lyubonko/ucu2022cv/master/assignments/fig/comp_graph_2.png)\n",
    "\n",
    " We are interested in computing partial derivatives: \n",
    "\n",
    "$$ \\frac{\\partial f}{\\partial \\mathbf{w}}  $$ \n",
    "\n",
    "$$ \\frac{\\partial f}{\\partial b}  $$ \n",
    "\n",
    "$$ \\frac{\\partial f}{\\partial \\mathbf{x}}  $$ \n",
    "\n",
    "define $\\{x_0, x_1\\}$ and $\\{w_0, w_1\\}$ as vector variables $\\mathbf{x}$ and $\\mathbf{w}$\n",
    "look in for pytorch exponent function http://pytorch.org/docs/master/torch.html#torch.exp \n",
    "use matrix operations\n",
    "\n",
    "You should get the numbers the same as on the figure"
   ]
  },
  {
   "cell_type": "code",
   "execution_count": 31,
   "metadata": {
    "id": "vDpuQUuOlkw6"
   },
   "outputs": [
    {
     "name": "stdout",
     "output_type": "stream",
     "text": [
      "tensor([-0.3932,  0.1966])\n",
      "tensor([0.5898, 0.9831])\n",
      "tensor([0.1966])\n"
     ]
    }
   ],
   "source": [
    "w = torch.tensor([3.0, 5.0], requires_grad=True)\n",
    "x = torch.tensor([-2.0, 1.0], requires_grad=True)\n",
    "b = torch.tensor([2.0], requires_grad=True)\n",
    "\n",
    "# YOUR CODE HERE (replace 'None')\n",
    "f = 1 / (1 + torch.exp(-(w @ x + b)))\n",
    "\n",
    "# Compute gradients.\n",
    "f.backward()\n",
    "\n",
    "# Print out the gradients.\n",
    "print(w.grad)\n",
    "print(x.grad)\n",
    "print(b.grad)"
   ]
  },
  {
   "cell_type": "code",
   "execution_count": null,
   "metadata": {
    "id": "7QFqSPhqk-1E"
   },
   "outputs": [],
   "source": []
  }
 ],
 "metadata": {
  "accelerator": "GPU",
  "colab": {
   "collapsed_sections": [],
   "name": "Copy of a1_pytorch.ipynb",
   "provenance": [
    {
     "file_id": "https://github.com/lyubonko/ucu2020cv/blob/master/assignments/a1_pytorch.ipynb",
     "timestamp": 1637183635696
    }
   ],
   "toc_visible": true
  },
  "kernelspec": {
   "display_name": "Python 3 (ipykernel)",
   "language": "python",
   "name": "python3"
  },
  "language_info": {
   "codemirror_mode": {
    "name": "ipython",
    "version": 3
   },
   "file_extension": ".py",
   "mimetype": "text/x-python",
   "name": "python",
   "nbconvert_exporter": "python",
   "pygments_lexer": "ipython3",
   "version": "3.10.9"
  }
 },
 "nbformat": 4,
 "nbformat_minor": 4
}
