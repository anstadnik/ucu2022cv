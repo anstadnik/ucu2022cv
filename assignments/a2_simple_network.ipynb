{
 "cells": [
  {
   "cell_type": "markdown",
   "metadata": {
    "id": "MJc9nrDy_fdE"
   },
   "source": [
    "# Simple networks"
   ]
  },
  {
   "cell_type": "markdown",
   "metadata": {
    "id": "U1t8P2WF_dAR"
   },
   "source": [
    "### Useful Links:\n",
    "\n",
    "* pytorch official documentation\n",
    "http://pytorch.org/docs/master/index.html\n",
    "\n",
    "* pytorch discussion\n",
    "https://discuss.pytorch.org/\n",
    "\n",
    "* pytorch official tutorials\n",
    "https://pytorch.org/tutorials/"
   ]
  },
  {
   "cell_type": "markdown",
   "metadata": {
    "id": "Z8MRDiGWUkCB"
   },
   "source": [
    "## Preliminaries"
   ]
  },
  {
   "cell_type": "code",
   "execution_count": 1,
   "metadata": {
    "id": "IfCU7c5KUkCG"
   },
   "outputs": [],
   "source": [
    "import os\n",
    "\n",
    "import matplotlib.pyplot as plt\n",
    "import numpy as np\n",
    "from PIL import Image"
   ]
  },
  {
   "cell_type": "code",
   "execution_count": 2,
   "metadata": {
    "id": "pKJJpL4JUkCI"
   },
   "outputs": [],
   "source": [
    "import torch\n",
    "import torch.nn as nn\n",
    "import torch.nn.functional as F"
   ]
  },
  {
   "cell_type": "code",
   "execution_count": 3,
   "metadata": {
    "id": "1sqUeL6jUkCL"
   },
   "outputs": [],
   "source": [
    "# to make interactive plotting possible\n",
    "%matplotlib inline\n",
    "# for auto-reloading external modules\n",
    "%load_ext autoreload\n",
    "%autoreload 2"
   ]
  },
  {
   "cell_type": "code",
   "execution_count": 4,
   "metadata": {
    "id": "G2v18tmDUkCN"
   },
   "outputs": [],
   "source": [
    "# make plots a bit nicer\n",
    "plt.matplotlib.rcParams.update({\"font.size\": 18, \"font.family\": \"serif\"})"
   ]
  },
  {
   "cell_type": "code",
   "execution_count": 5,
   "metadata": {
    "id": "ZrKaje3eUkCQ"
   },
   "outputs": [],
   "source": [
    "# random seed settings\n",
    "torch.manual_seed(42)\n",
    "np.random.seed(42)\n",
    "\n",
    "# data type (useful to have in pytorch)\n",
    "dtype_np = np.float64\n",
    "dtype_torch = torch.FloatTensor"
   ]
  },
  {
   "cell_type": "code",
   "execution_count": 6,
   "metadata": {
    "id": "E5VuxU78_NRB"
   },
   "outputs": [
    {
     "name": "stdout",
     "output_type": "stream",
     "text": [
      "python version: 3.10.9\n",
      "torch version: 2.0.0.dev20221228\n"
     ]
    }
   ],
   "source": [
    "# print versions\n",
    "from platform import python_version\n",
    "\n",
    "print(f\"python version: {python_version()}\")\n",
    "print(f\"torch version: {torch.__version__}\")"
   ]
  },
  {
   "cell_type": "markdown",
   "metadata": {
    "id": "SOnnHO4_XN7n"
   },
   "source": [
    "### Pathes"
   ]
  },
  {
   "cell_type": "code",
   "execution_count": 10,
   "metadata": {
    "id": "IqTvcz1BSDJr"
   },
   "outputs": [
    {
     "name": "stdout",
     "output_type": "stream",
     "text": [
      "  % Total    % Received % Xferd  Average Speed   Time    Time     Time  Current\n",
      "                                 Dload  Upload   Total   Spent    Left  Speed\n",
      "100 68147  100 68147    0     0   420k      0 --:--:-- --:--:-- --:--:--     0  0 --:--:-- --:--:-- --:--:--  429k\n",
      "  % Total    % Received % Xferd  Average Speed   Time    Time     Time  Current\n",
      "                                 Dload  Upload   Total   Spent    Left  Speed\n",
      "100   766  100   766    0     0   8997      0 --:--:-- --:--:-- --:--:--  9341\n"
     ]
    }
   ],
   "source": [
    "# transfer data to colab\n",
    "!curl -O https://raw.githubusercontent.com/lyubonko/ucu2022cv/master/assignments/data/toy_data/data_class_train.txt\n",
    "!curl -O https://raw.githubusercontent.com/lyubonko/ucu2022cv/master/assignments/data/toy_data/data_class_test.txt\n",
    "\n",
    "# create local folder with data\n",
    "path_folder = \"data\"\n",
    "if not os.path.exists(path_folder):\n",
    "    os.mkdir(path_folder)\n",
    "\n",
    "# data pathes\n",
    "path_data_train = os.path.join(path_folder, \"data_class_train.txt\")\n",
    "path_data_test = os.path.join(path_folder, \"data_class_test.txt\")\n",
    "\n",
    "# move files\n",
    "os.replace(\"data_class_test.txt\", path_data_test)\n",
    "os.replace(\"data_class_train.txt\", path_data_train)"
   ]
  },
  {
   "cell_type": "markdown",
   "metadata": {
    "id": "g8wxAx0AUkCT"
   },
   "source": [
    "### Data (playground)"
   ]
  },
  {
   "cell_type": "code",
   "execution_count": 11,
   "metadata": {
    "id": "R-HfiJehacH0"
   },
   "outputs": [],
   "source": [
    "# we will work with one file (but we can do it with two files)\n",
    "path_data = path_data_train"
   ]
  },
  {
   "cell_type": "code",
   "execution_count": 12,
   "metadata": {
    "id": "w0z3rxUUUkCT"
   },
   "outputs": [],
   "source": [
    "# load data\n",
    "data = np.loadtxt(path_data)\n",
    "dataX = data[:, 0:2]\n",
    "dataY = data[:, 2]"
   ]
  },
  {
   "cell_type": "code",
   "execution_count": 13,
   "metadata": {
    "id": "fzE1sHScUkCW"
   },
   "outputs": [],
   "source": [
    "n_samples = data.shape[0]\n",
    "dim_in = 2  # two features\n",
    "dim_out = 3  # three classes\n",
    "\n",
    "n_train = int(n_samples * 0.7)\n",
    "n_test = n_samples - n_train"
   ]
  },
  {
   "cell_type": "code",
   "execution_count": 14,
   "metadata": {
    "id": "VL-MOE60UkCZ"
   },
   "outputs": [],
   "source": [
    "# train-test partition\n",
    "perm = np.random.permutation(n_samples)\n",
    "train_indx = perm[:n_train]\n",
    "test_indx = perm[n_train:]\n",
    "\n",
    "dataX_train, dataY_train = dataX[train_indx, :], dataY[train_indx]\n",
    "dataX_test, dataY_test = dataX[test_indx, :], dataY[test_indx]"
   ]
  },
  {
   "cell_type": "code",
   "execution_count": 15,
   "metadata": {
    "id": "lyiIizM6UkCd"
   },
   "outputs": [
    {
     "data": {
      "image/png": "[encoded data removed]",
      "text/plain": [
       "<Figure size 1000x500 with 1 Axes>"
      ]
     },
     "metadata": {},
     "output_type": "display_data"
    }
   ],
   "source": [
    "# visualize data\n",
    "plt.figure(figsize=(10, 5))\n",
    "plt.plot(\n",
    "    dataX_train[dataY_train == 0, 0],\n",
    "    dataX_train[dataY_train == 0, 1],\n",
    "    \"ob\",\n",
    "    label=\"class1\",\n",
    ")\n",
    "plt.plot(\n",
    "    dataX_train[dataY_train == 1, 0],\n",
    "    dataX_train[dataY_train == 1, 1],\n",
    "    \"og\",\n",
    "    label=\"class2\",\n",
    ")\n",
    "plt.plot(\n",
    "    dataX_train[dataY_train == 2, 0],\n",
    "    dataX_train[dataY_train == 2, 1],\n",
    "    \"or\",\n",
    "    label=\"class3\",\n",
    ")\n",
    "\n",
    "plt.plot(dataX_test[:, 0], dataX_test[:, 1], \"xk\", label=\"test\")\n",
    "\n",
    "plt.xlabel(\"feature #1\")\n",
    "plt.ylabel(\"feature #2\")\n",
    "plt.legend()\n",
    "plt.xlim(-9, 9)\n",
    "plt.ylim(-5, 12);"
   ]
  },
  {
   "cell_type": "markdown",
   "metadata": {
    "id": "emywYf7kUkCi"
   },
   "source": [
    "## Two-layer Network ('by hand')\n",
    "\n",
    "\n",
    "$$x_{hidden} = RELU(x  \\cdot W_1 + b_1)$$\n",
    "$$y_{pred} = x_{hidden} \\cdot W_2 + b_2$$"
   ]
  },
  {
   "cell_type": "code",
   "execution_count": 16,
   "metadata": {
    "id": "kvqsZejNUkCj"
   },
   "outputs": [],
   "source": [
    "dim_hidden = 100  # hidden dimension"
   ]
  },
  {
   "cell_type": "code",
   "execution_count": 17,
   "metadata": {
    "id": "7ujFGnvmUkCl"
   },
   "outputs": [],
   "source": [
    "# input\n",
    "x = torch.from_numpy(dataX_train).type(dtype_torch)\n",
    "y = torch.from_numpy(dataY_train).type(torch.LongTensor)"
   ]
  },
  {
   "cell_type": "markdown",
   "metadata": {
    "id": "c0FLztlqUkCo"
   },
   "source": [
    "* Weights and biases"
   ]
  },
  {
   "cell_type": "markdown",
   "metadata": {
    "id": "pm0AbfS_UkCo"
   },
   "source": [
    "### <font color=\"red\"> **[PROBLEM I]**: </font>   \n",
    " <font color=\"red\"> Fill the missing part (weights and biases for the output layer) </font>  "
   ]
  },
  {
   "cell_type": "code",
   "execution_count": 18,
   "metadata": {
    "id": "P6EaCFsSUkCp"
   },
   "outputs": [],
   "source": [
    "# Randomly initialize weights\n",
    "w1_value = np.random.randn(dim_in, dim_hidden)\n",
    "w2_value = np.random.randn(dim_hidden, 3)  # YOUR CODE HERE\n",
    "\n",
    "# Randomly initialize biases\n",
    "b1_value = np.random.randn(dim_hidden)\n",
    "b2_value = np.random.randn(3)  # YOUR CODE HERE"
   ]
  },
  {
   "cell_type": "markdown",
   "metadata": {
    "id": "ZDNbEJQJXmP8"
   },
   "source": [
    "* tell pytorch that these variables will participate in backprop. requires_grad=False by default, more details: https://pytorch.org/docs/stable/notes/autograd.html"
   ]
  },
  {
   "cell_type": "code",
   "execution_count": 19,
   "metadata": {
    "id": "4j7AOmZNUkCr"
   },
   "outputs": [],
   "source": [
    "w1 = torch.from_numpy(w1_value).type(dtype_torch).requires_grad_(True)\n",
    "w2 = torch.from_numpy(w2_value).type(dtype_torch).requires_grad_(True)\n",
    "b1 = torch.from_numpy(b1_value).type(dtype_torch).requires_grad_(True)\n",
    "b2 = torch.from_numpy(b2_value).type(dtype_torch).requires_grad_(True)"
   ]
  },
  {
   "cell_type": "markdown",
   "metadata": {
    "id": "KB_MBRG-UkCu"
   },
   "source": [
    "* Loss (we will use cross-entropy loss), see documentation for details http://pytorch.org/docs/master/nn.html#torch.nn.CrossEntropyLoss"
   ]
  },
  {
   "cell_type": "code",
   "execution_count": 20,
   "metadata": {
    "id": "NQw_LYFbUkCv"
   },
   "outputs": [],
   "source": [
    "criterion = nn.CrossEntropyLoss()"
   ]
  },
  {
   "cell_type": "markdown",
   "metadata": {
    "id": "cKSu08rFUkCx"
   },
   "source": [
    "* learning parameters"
   ]
  },
  {
   "cell_type": "code",
   "execution_count": 21,
   "metadata": {
    "id": "f5MTxAyPUkCy"
   },
   "outputs": [],
   "source": [
    "learning_rate = 1e-3\n",
    "n_iteration = 1000"
   ]
  },
  {
   "cell_type": "markdown",
   "metadata": {
    "id": "PDYPUHoDUkC0"
   },
   "source": [
    "### <font color=\"red\"> **[PROBLEM II]**: </font>   \n",
    " <font color=\"red\"> Fill the missing part (last operation in forward pass to calculate *y_pred*) </font>  "
   ]
  },
  {
   "cell_type": "code",
   "execution_count": 22,
   "metadata": {
    "id": "kD980w_HUkC1"
   },
   "outputs": [
    {
     "name": "stdout",
     "output_type": "stream",
     "text": [
      "0 20.014314651489258\n",
      "100 1.3266932964324951\n",
      "200 0.4813612699508667\n",
      "300 0.38515686988830566\n",
      "400 0.3476110100746155\n",
      "500 0.3269951641559601\n",
      "600 0.3124285936355591\n",
      "700 0.3012826442718506\n",
      "800 0.29261693358421326\n",
      "900 0.2855115234851837\n"
     ]
    }
   ],
   "source": [
    "logger = {}\n",
    "logger[\"iteration\"] = []\n",
    "logger[\"loss_iteration\"] = []\n",
    "\n",
    "for t in range(n_iteration):\n",
    "\n",
    "    # forward pass\n",
    "    x_hidden = x.mm(w1) + b1\n",
    "    x_hidden_act = x_hidden.clamp(min=0)  # apply RELU\n",
    "    y_pred = x_hidden_act @ w2 + b2  # YOUR CODE HERE\n",
    "\n",
    "    # compute loss\n",
    "    loss = criterion(y_pred, y)\n",
    "\n",
    "    # backprop\n",
    "    loss.backward()\n",
    "\n",
    "    # update weights using gradient descent\n",
    "    w1.data -= learning_rate * w1.grad\n",
    "    w2.data -= learning_rate * w2.grad\n",
    "    b1.data -= learning_rate * b1.grad\n",
    "    b2.data -= learning_rate * b2.grad\n",
    "\n",
    "    # manually zero the gradients\n",
    "    w1.grad.zero_()\n",
    "    w2.grad.zero_()\n",
    "    b1.grad.zero_()\n",
    "    b2.grad.zero_()\n",
    "\n",
    "    # reporting & logging\n",
    "    if t % 100 == 0:\n",
    "        print(t, loss.item())\n",
    "\n",
    "    logger[\"iteration\"] += [t]\n",
    "    logger[\"loss_iteration\"] += [loss.item()]"
   ]
  },
  {
   "cell_type": "markdown",
   "metadata": {
    "id": "ZRVfrCSjUkC6"
   },
   "source": [
    " <font color=\"green\"> After visualizing the loss (cell below) you should see something like this </font>\n",
    "\n",
    "![loss_toy.png](https://raw.githubusercontent.com/lyubonko/ucu2022cv/master/assignments/fig/loss_toy.png)"
   ]
  },
  {
   "cell_type": "code",
   "execution_count": 23,
   "metadata": {
    "id": "2thNWH0QUkC7"
   },
   "outputs": [
    {
     "data": {
      "image/png": "[encoded data removed]",
      "text/plain": [
       "<Figure size 1000x500 with 1 Axes>"
      ]
     },
     "metadata": {},
     "output_type": "display_data"
    }
   ],
   "source": [
    "# visualize loss\n",
    "plt.figure(figsize=(10, 5))\n",
    "plt.plot(logger[\"iteration\"], logger[\"loss_iteration\"], \"ob\", label=\"loss\")\n",
    "\n",
    "plt.xlabel(\"iteration\")\n",
    "plt.ylabel(\"loss\");"
   ]
  },
  {
   "cell_type": "markdown",
   "metadata": {
    "id": "PlnAncYjUkDC"
   },
   "source": [
    "### <font color=\"red\"> **[PROBLEM III]**: </font>   \n",
    "<font color=\"red\"> Implement the fuction which takes x and predicts its class </font>  "
   ]
  },
  {
   "cell_type": "code",
   "execution_count": 30,
   "metadata": {
    "id": "rWXjnPprUkDC"
   },
   "outputs": [],
   "source": [
    "def predict(x, w1, b1, w2, b2, dtype_torch=torch.FloatTensor):\n",
    "    \"\"\"\n",
    "    Prediction based on two-layer model (by hand)\n",
    "\n",
    "    Args:\n",
    "        x (numpy.array): sample\n",
    "        w1, b1, w2, b2 (torch.Tensor) : weights and biases\n",
    "    Returns:\n",
    "        scalar: predicted class\n",
    "    \"\"\"\n",
    "    t = torch.from_numpy(x).type(dtype_torch)\n",
    "    x_hidden = t @ w1 + b1\n",
    "    x_hidden_act = x_hidden.clamp(min=0)  # apply RELU\n",
    "    x_pred = x_hidden_act @ w2 + b2\n",
    "    forward_pass = x_pred.detach()\n",
    "\n",
    "    return np.argmax(forward_pass)"
   ]
  },
  {
   "cell_type": "markdown",
   "metadata": {
    "id": "_45l9ft5UkDE"
   },
   "source": [
    "<span style=\"color:green\"> by running the following command you should get number bigger than 8 </span>"
   ]
  },
  {
   "cell_type": "code",
   "execution_count": 31,
   "metadata": {
    "id": "7dgMC_-XUkDF"
   },
   "outputs": [
    {
     "data": {
      "text/plain": [
       "10"
      ]
     },
     "execution_count": 31,
     "metadata": {},
     "output_type": "execute_result"
    }
   ],
   "source": [
    "np.sum(\n",
    "    np.equal(\n",
    "        [predict(x, w1, b1, w2, b2) for x in dataX_train[:10]],\n",
    "        [0, 2, 0, 1, 0, 2, 0, 0, 1, 0],\n",
    "    )\n",
    ")"
   ]
  },
  {
   "cell_type": "markdown",
   "metadata": {
    "id": "H-va53cfUkDI"
   },
   "source": [
    "* Calculate accuracy"
   ]
  },
  {
   "cell_type": "code",
   "execution_count": 32,
   "metadata": {
    "id": "Mh19f7hxUkDJ"
   },
   "outputs": [],
   "source": [
    "def get_accuracy(y, y_pred):\n",
    "    \"\"\"\n",
    "    Calculate accuracy given y and y_predicted\n",
    "\n",
    "    Args:\n",
    "        y (numpy.array): ground truth\n",
    "        y_pred (numpy.array): predictated values\n",
    "\n",
    "    Returns:\n",
    "        scalar: accuracy\n",
    "    \"\"\"\n",
    "    n_samples = y.shape[0]\n",
    "    return np.sum(y == y_pred) / n_samples * 100"
   ]
  },
  {
   "cell_type": "code",
   "execution_count": 33,
   "metadata": {
    "id": "nWOLHYHSUkDL"
   },
   "outputs": [
    {
     "name": "stdout",
     "output_type": "stream",
     "text": [
      "Train accuracy: 93.333333\n"
     ]
    }
   ],
   "source": [
    "y_train_predict = np.zeros(n_train)\n",
    "for i in range(n_train):\n",
    "    y_train_predict[i] = predict(dataX_train[i], w1, b1, w2, b2)\n",
    "\n",
    "print(\"Train accuracy: %f\" % get_accuracy(y_train_predict, dataY_train))"
   ]
  },
  {
   "cell_type": "markdown",
   "metadata": {
    "id": "QXY0TXHoUkDO"
   },
   "source": [
    "### <font color=\"red\"> **[PROBLEM IV]**: </font>   \n",
    "<font color=\"red\"> Calculate accuracy on the test set </font>"
   ]
  },
  {
   "cell_type": "code",
   "execution_count": 34,
   "metadata": {
    "id": "h_JSf4NcUkDP"
   },
   "outputs": [
    {
     "name": "stdout",
     "output_type": "stream",
     "text": [
      "Train accuracy: 91.851852\n"
     ]
    }
   ],
   "source": [
    "y_test_predict = np.zeros(n_test)\n",
    "for i in range(n_test):\n",
    "    y_test_predict[i] = predict(dataX_test[i], w1, b1, w2, b2)\n",
    "\n",
    "print(\"Train accuracy: %f\" % get_accuracy(y_test_predict, dataY_test))"
   ]
  },
  {
   "cell_type": "markdown",
   "metadata": {
    "id": "1fPujWJSUkDR"
   },
   "source": [
    "* Visualize decision boundary"
   ]
  },
  {
   "cell_type": "code",
   "execution_count": 35,
   "metadata": {
    "id": "qg0G8AhXUkDR"
   },
   "outputs": [
    {
     "data": {
      "image/png": "[encoded data removed]",
      "text/plain": [
       "<Figure size 1000x500 with 1 Axes>"
      ]
     },
     "metadata": {},
     "output_type": "display_data"
    }
   ],
   "source": [
    "Nspace = 100\n",
    "x1space = np.linspace(-9, 9, Nspace)\n",
    "x2space = np.linspace(-5, 12, Nspace)\n",
    "X, Y = np.meshgrid(x1space, x2space)\n",
    "\n",
    "Z = np.zeros((Nspace, Nspace))\n",
    "for i in range(Nspace):\n",
    "    for j in range(Nspace):\n",
    "        x1 = x1space[j]\n",
    "        y1 = x2space[i]\n",
    "        x = np.array([x1, y1])\n",
    "        Z[i, j] = predict(x, w1, b1, w2, b2)\n",
    "\n",
    "plt.figure(figsize=(10, 5))\n",
    "plt.pcolor(X, Y, Z, vmin=abs(Z).min(), vmax=abs(Z).max())\n",
    "\n",
    "plt.xlabel(\"feature #1\")\n",
    "plt.ylabel(\"feature #2\")\n",
    "plt.xlim(-9, 9)\n",
    "plt.ylim(-5, 12);"
   ]
  },
  {
   "cell_type": "markdown",
   "metadata": {
    "id": "QgUtCc5dUkDV"
   },
   "source": [
    "## Two-layer Network, again ...  (with nn package) \n",
    "\n",
    "$$x_{hidden} = RELU(x  \\cdot W_1 + b_1)$$\n",
    "$$y_{pred} = x_{hidden} \\cdot W_2 + b_2$$"
   ]
  },
  {
   "cell_type": "markdown",
   "metadata": {
    "id": "a5dNWjSAUkDV"
   },
   "source": [
    "After some hard work we will use torch with all its power and elegance.  "
   ]
  },
  {
   "cell_type": "markdown",
   "metadata": {
    "id": "AtPNVmOUUkDW"
   },
   "source": [
    "* Model"
   ]
  },
  {
   "cell_type": "code",
   "execution_count": 36,
   "metadata": {
    "id": "qgAnFXS2Zz_V"
   },
   "outputs": [],
   "source": [
    "class Net(nn.Module):\n",
    "    def __init__(self, dim_in, dim_hidden, dim_out):\n",
    "        super(Net, self).__init__()\n",
    "        self.fc1 = nn.Linear(dim_in, dim_hidden)\n",
    "        self.fc2 = nn.Linear(dim_hidden, dim_out)\n",
    "\n",
    "    def forward(self, x):\n",
    "        x = self.fc2(F.relu(self.fc1(x)))\n",
    "        return x"
   ]
  },
  {
   "cell_type": "code",
   "execution_count": 37,
   "metadata": {
    "id": "PW3AQyDnUkDa"
   },
   "outputs": [],
   "source": [
    "model = Net(dim_in, dim_hidden, dim_out)"
   ]
  },
  {
   "cell_type": "markdown",
   "metadata": {
    "id": "AJY2KW22UkDc"
   },
   "source": [
    "* Loss (we will use cross-entropy loss)"
   ]
  },
  {
   "cell_type": "code",
   "execution_count": 38,
   "metadata": {
    "id": "O0JWFwx7UkDd"
   },
   "outputs": [],
   "source": [
    "criterion = nn.CrossEntropyLoss()"
   ]
  },
  {
   "cell_type": "code",
   "execution_count": 39,
   "metadata": {
    "id": "6CAjIBGWUkDf"
   },
   "outputs": [],
   "source": [
    "# input\n",
    "x = torch.from_numpy(dataX_train).type(dtype_torch)\n",
    "y = torch.from_numpy(dataY_train).type(torch.LongTensor)"
   ]
  },
  {
   "cell_type": "code",
   "execution_count": 40,
   "metadata": {
    "id": "ZG-zxJaFUkDh"
   },
   "outputs": [],
   "source": [
    "learning_rate = 1e-2\n",
    "n_iteration = 1000"
   ]
  },
  {
   "cell_type": "code",
   "execution_count": 41,
   "metadata": {
    "id": "Yt1TewKOUkDk"
   },
   "outputs": [
    {
     "name": "stdout",
     "output_type": "stream",
     "text": [
      "0 1.170824646949768\n",
      "100 0.31806638836860657\n",
      "200 0.2541128695011139\n",
      "300 0.2233128696680069\n",
      "400 0.2043716460466385\n",
      "500 0.19137056171894073\n",
      "600 0.18183633685112\n",
      "700 0.1745341420173645\n",
      "800 0.16876675188541412\n",
      "900 0.16410532593727112\n"
     ]
    }
   ],
   "source": [
    "logger = {}\n",
    "logger[\"iteration\"] = []\n",
    "logger[\"loss_iteration\"] = []\n",
    "\n",
    "for t in range(n_iteration):\n",
    "\n",
    "    # forward pass\n",
    "    y_pred = model(x)\n",
    "\n",
    "    # compute loss\n",
    "    loss = criterion(y_pred, y)\n",
    "\n",
    "    # backprop\n",
    "    loss.backward()\n",
    "\n",
    "    # update weights using gradient descent\n",
    "    for param in model.parameters():\n",
    "        param.data -= learning_rate * param.grad.data\n",
    "\n",
    "    # manually zero the gradients\n",
    "    model.zero_grad()\n",
    "\n",
    "    # reporting & logging\n",
    "    if t % 100 == 0:\n",
    "        print(t, loss.item())\n",
    "\n",
    "    logger[\"iteration\"] += [t]\n",
    "    logger[\"loss_iteration\"] += [loss.item()]"
   ]
  },
  {
   "cell_type": "code",
   "execution_count": 42,
   "metadata": {
    "id": "AE7MW8OoUkDq"
   },
   "outputs": [],
   "source": [
    "def predict(x, model):\n",
    "    \"\"\"\n",
    "    Prediction based on two-layer model\n",
    "\n",
    "    Args:\n",
    "        x (numpy.array): feature vector of a sample\n",
    "\n",
    "    Returns:\n",
    "        scalar: predicted class for this sample\n",
    "    \"\"\"\n",
    "    t = torch.from_numpy(x).type(dtype_torch)\n",
    "    forward_pass = model(t)\n",
    "    return np.argmax(forward_pass.data.numpy(), axis=1)"
   ]
  },
  {
   "cell_type": "code",
   "execution_count": 43,
   "metadata": {
    "id": "YvjiWaxTUkDs"
   },
   "outputs": [
    {
     "name": "stdout",
     "output_type": "stream",
     "text": [
      "Train accuracy: 95.238095\n",
      "Test accuracy: 95.925926\n"
     ]
    }
   ],
   "source": [
    "y_train_predict = predict(dataX_train, model)\n",
    "print(\"Train accuracy: %f\" % get_accuracy(y_train_predict, dataY_train))\n",
    "\n",
    "y_test_predict = predict(dataX_test, model)\n",
    "print(\"Test accuracy: %f\" % get_accuracy(y_test_predict, dataY_test))"
   ]
  },
  {
   "cell_type": "markdown",
   "metadata": {
    "id": "NNikUxVCeVmt"
   },
   "source": [
    "### <font color=\"red\"> **[PROBLEM V]**: </font>   \n",
    "<font color=\"red\"> Visualize loss </font>"
   ]
  },
  {
   "cell_type": "code",
   "execution_count": 45,
   "metadata": {
    "id": "loaofwicUkDo"
   },
   "outputs": [
    {
     "data": {
      "image/png": "[encoded data removed]",
      "text/plain": [
       "<Figure size 1000x500 with 1 Axes>"
      ]
     },
     "metadata": {},
     "output_type": "display_data"
    }
   ],
   "source": [
    "# visualize loss\n",
    "plt.figure(figsize=(10, 5))\n",
    "plt.plot(logger[\"iteration\"], logger[\"loss_iteration\"], \"ob\", label=\"loss\")\n",
    "\n",
    "plt.xlabel(\"iteration\")\n",
    "plt.ylabel(\"loss\");"
   ]
  },
  {
   "cell_type": "code",
   "execution_count": null,
   "metadata": {
    "id": "Fp97qvcZQhPG"
   },
   "outputs": [],
   "source": []
  }
 ],
 "metadata": {
  "colab": {
   "collapsed_sections": [],
   "name": "a2_simple_network.ipynb",
   "provenance": [
    {
     "file_id": "https://github.com/lyubonko/ucu2020cv/blob/master/assignments/a2_simple_network.ipynb",
     "timestamp": 1637187574561
    }
   ],
   "toc_visible": true
  },
  "kernelspec": {
   "display_name": "Python 3 (ipykernel)",
   "language": "python",
   "name": "python3"
  },
  "language_info": {
   "codemirror_mode": {
    "name": "ipython",
    "version": 3
   },
   "file_extension": ".py",
   "mimetype": "text/x-python",
   "name": "python",
   "nbconvert_exporter": "python",
   "pygments_lexer": "ipython3",
   "version": "3.10.9"
  }
 },
 "nbformat": 4,
 "nbformat_minor": 4
}
